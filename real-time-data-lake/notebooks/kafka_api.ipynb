{
 "cells": [
  {
   "cell_type": "code",
   "execution_count": null,
   "metadata": {},
   "outputs": [],
   "source": [
    "import requests\n",
    "from kafka import KafkaProducer\n",
    "\n",
    "producer = KafkaProducer(bootstrap_servers='localhost:9092')\n",
    "\n",
    "response = requests.get('https://rest.coinapi.io/v1/exchangerate/BTC/USD')\n",
    "producer.send('my-data-stream', value=response.content)\n",
    "producer.flush()"
   ]
  },
  {
   "cell_type": "code",
   "execution_count": 2,
   "metadata": {},
   "outputs": [
    {
     "data": {
      "text/plain": [
       "0"
      ]
     },
     "execution_count": 2,
     "metadata": {},
     "output_type": "execute_result"
    }
   ],
   "source": [
    "from confluent_kafka import Producer\n",
    "\n",
    "producer = Producer({'bootstrap.servers': 'localhost:9092'})\n",
    "\n",
    "response = requests.get('https://rest.coinapi.io/v1/exchangerate/BTC/USD')\n",
    "producer.produce('my-data-stream', value=response.content)\n",
    "producer.flush()\n"
   ]
  },
  {
   "cell_type": "code",
   "execution_count": 4,
   "metadata": {},
   "outputs": [
    {
     "name": "stderr",
     "output_type": "stream",
     "text": [
      "%3|1727427136.170|FAIL|rdkafka#producer-4| [thrd:jf-hp:9092/0]: jf-hp:9092/0: Failed to connect to broker at [jf-hp]:9092: Invalid argument (after 0ms in state CONNECT)\n",
      "%3|1727427137.172|FAIL|rdkafka#producer-4| [thrd:jf-hp:9092/0]: jf-hp:9092/0: Failed to connect to broker at [jf-hp]:9092: Invalid argument (after 1ms in state CONNECT, 1 identical error(s) suppressed)\n"
     ]
    }
   ],
   "source": [
    "import requests\n",
    "from confluent_kafka import Producer\n",
    "\n",
    "# Replace 'YOUR_API_KEY' with your actual CoinAPI key\n",
    "headers = {'X-CoinAPI-Key': '8e64a7e8-441f-44ee-95a7-a80d00d494f1'}\n",
    "\n",
    "# Make the API request with the headers\n",
    "response = requests.get('https://rest.coinapi.io/v1/exchangerate/BTC/USD', headers=headers)\n",
    "\n",
    "# Check for a valid response before sending to Kafka\n",
    "if response.status_code == 200:\n",
    "    producer = Producer({'bootstrap.servers': 'localhost:9092'})\n",
    "    producer.produce('my-data-stream', value=response.content)\n",
    "    #producer.produce('crypto-exchange-rates', value=response.content)\n",
    "    producer.flush()\n",
    "else:\n",
    "    print(f\"Error: {response.status_code}, {response.text}\")\n"
   ]
  }
 ],
 "metadata": {
  "kernelspec": {
   "display_name": "real-time-data-lake-QWGm5iRW-py3.11",
   "language": "python",
   "name": "python3"
  },
  "language_info": {
   "codemirror_mode": {
    "name": "ipython",
    "version": 3
   },
   "file_extension": ".py",
   "mimetype": "text/x-python",
   "name": "python",
   "nbconvert_exporter": "python",
   "pygments_lexer": "ipython3",
   "version": "3.11.7"
  }
 },
 "nbformat": 4,
 "nbformat_minor": 2
}
